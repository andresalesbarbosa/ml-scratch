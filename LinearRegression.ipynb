{
  "nbformat": 4,
  "nbformat_minor": 0,
  "metadata": {
    "colab": {
      "name": "LinearRegression.ipynb",
      "version": "0.3.2",
      "provenance": [],
      "include_colab_link": true
    },
    "kernelspec": {
      "name": "python3",
      "display_name": "Python 3"
    }
  },
  "cells": [
    {
      "cell_type": "markdown",
      "metadata": {
        "id": "view-in-github",
        "colab_type": "text"
      },
      "source": [
        "<a href=\"https://colab.research.google.com/github/andresalesbarbosa/ml-scratch/blob/master/LinearRegression.ipynb\" target=\"_parent\"><img src=\"https://colab.research.google.com/assets/colab-badge.svg\" alt=\"Open In Colab\"/></a>"
      ]
    },
    {
      "metadata": {
        "id": "1JUwT4Nww-Ih",
        "colab_type": "text"
      },
      "cell_type": "markdown",
      "source": [
        "# Linear Regression\n",
        "\n",
        "*André Sales Barbosa*\n",
        "Last update: *January 2019*"
      ]
    },
    {
      "metadata": {
        "id": "62AluVSfRPAu",
        "colab_type": "text"
      },
      "cell_type": "markdown",
      "source": [
        "## Introduction\n",
        "The objective of this notebook is to code the simple and multilinear forms of linear regression, and use this experience to understand some of the proprieties of this model."
      ]
    },
    {
      "metadata": {
        "id": "HNUdAmtVxzmN",
        "colab_type": "code",
        "colab": {}
      },
      "cell_type": "code",
      "source": [
        "import numpy as np\n",
        "from scipy.stats import norm\n",
        "import matplotlib.pyplot as plt\n",
        "import seaborn as sns\n",
        "\n",
        "np.random.seed(1234)  # Set seed for reproducibility\n",
        "\n",
        "# Parameters\n",
        "real_beta_0 = 5\n",
        "real_beta_1 = 2\n",
        "real_sigma2 = 1\n",
        "\n",
        "# Sample size\n",
        "n = 100\n",
        "\n",
        "# Generate data\n",
        "x = np.linspace(0,5,n)\n",
        "y = real_beta_0 + real_beta_1*x + real_sigma2 * np.random.randn(n)\n"
      ],
      "execution_count": 0,
      "outputs": []
    },
    {
      "metadata": {
        "id": "ePjE4w4Dz-tJ",
        "colab_type": "text"
      },
      "cell_type": "markdown",
      "source": [
        "Here we can see the data we generate"
      ]
    },
    {
      "metadata": {
        "id": "knMPgOnczIs5",
        "colab_type": "code",
        "colab": {
          "base_uri": "https://localhost:8080/",
          "height": 365
        },
        "outputId": "4ab5772f-4915-4daa-e56f-1ced0fd0d2c2"
      },
      "cell_type": "code",
      "source": [
        "# Plot data\n",
        "sns.set_style(\"whitegrid\")\n",
        "plt.scatter(x, y)\n",
        "plt.xlabel('x')\n",
        "plt.ylabel('y');"
      ],
      "execution_count": 15,
      "outputs": [
        {
          "output_type": "display_data",
          "data": {
            "image/png": "[encoded data removed]",
            "text/plain": [
              "<Figure size 576x396 with 1 Axes>"
            ]
          },
          "metadata": {
            "tags": []
          }
        }
      ]
    },
    {
      "metadata": {
        "id": "hDNdfPIS0PgW",
        "colab_type": "text"
      },
      "cell_type": "markdown",
      "source": [
        "## Simple Linear Regression\n",
        "\n",
        "This model takes the form $$Y = \\beta_0 + \\beta_1 x + \\epsilon $$\n",
        "\n",
        "This formula represents the reductible error, which we are modelling as $ \\beta_0 + \\beta_1 x$ and the irreductible error $\\epsilon$, this represent erros from data generation, data reading, modeling, features that are not described in this model, summing are erros we can not address with the model we chose.\n",
        "\n",
        "---\n",
        "\n",
        "To determine how to resolve this model, we must choose a metric of error, in this case, Residual Sum of Squares (RSS).\n",
        "\n",
        "$$ RSS = \\sum_{i =0}^n (y_i - \\hat{y_i} )^2$$\n",
        "$$ RSS = \\sum_{i =0}^n (y_i - (\\beta_0 + \\beta_1x_i))^2$$\n",
        "\n",
        "We would like that our error was null or the least possible, and so we must solve this minimization problem in $\\beta_0$ e $\\beta_1$ in order to find parameters that minimize this function.\n",
        "\n",
        "$$ \\hat{\\beta_0},\\hat{\\beta_1} =  \\frac{argmin}{\\beta_0,\\beta_1} \\sum_{i =0}^n (y_i - (\\beta_0 + \\beta_1x_i))^2 $$ \n",
        "\n",
        "This can be proved to yield a closed form solution like:\n",
        "\n",
        "$$ \\hat{\\beta_0} = \\bar{y}- \\hat{\\beta_1}\\bar{x} $$\n",
        "$$ \\hat{\\beta_1} = \\frac{\\sum_{i=1}^{n}y_i(x_i - \\bar{x})}{\\sum_{i=1}^{n}(x_i - \\bar{x})^2} $$\n",
        "\n",
        "In this notebook I'm going to use this closed form as a comparative of the correctness of the model.\n",
        "\n",
        "---"
      ]
    },
    {
      "metadata": {
        "id": "3i42oTH88_E7",
        "colab_type": "text"
      },
      "cell_type": "markdown",
      "source": [
        "## Gradient Descent\n",
        "\n",
        "\"Gradient descent is a first-order iterative optimization algorithm for finding the minimum of a function. To find a local minimum of a function using gradient descent, one takes steps proportional to the negative of the gradient (or approximate gradient) of the function at the current point. If, instead, one takes steps proportional to the positive of the gradient, one approaches a local maximum of that function; the procedure is then known as gradient ascent. \" [[wikipedia](https://en.wikipedia.org/wiki/Gradient_descent)]\n",
        "\n",
        " ![Graphical form of the algorithm [source Hackernoon](https://hackernoon.com/gradient-descent-aynk-7cbe95a778da)](https://cdn-images-1.medium.com/max/1600/0*rBQI7uBhBKE8KT-X.png)\n",
        " \n",
        " Our objective in this section is to implement a simple gradient descent and find the optimum parameters $\\beta_0,\\beta_1$ which minimize our error. \n",
        " \n",
        " The algorithm is composed of X steps:\n",
        " \n",
        "\n",
        "1.   Initialize the parameters with 0 or random numbers\n",
        "2.   Iterate until convergence\n",
        "  1.   Calculate the function $ f $ for the actual parameters\n",
        "  2.   Calculate the gradient ($\\nabla$) of $ f $ for each parameter\n",
        "  3.   Update the parameter as following\n",
        "  $$ W \\leftarrow W - \\alpha\\nabla $$\n",
        "  \n",
        "We must define what is convergence. I am going to consider that the model converged after 1000 iterations or if the diference between both new parameters and old parameters are less than *precision*.\n",
        "\n",
        "\n",
        "\n"
      ]
    },
    {
      "metadata": {
        "id": "rcadLiLQEJFf",
        "colab_type": "code",
        "colab": {
          "base_uri": "https://localhost:8080/",
          "height": 71
        },
        "outputId": "4e539056-30e7-417c-fc97-06d35be4cbbf"
      },
      "cell_type": "code",
      "source": [
        "# step 1\n",
        "beta_0 = np.random.rand(1)\n",
        "beta_1 = np.random.rand(1)\n",
        "n = x.shape[0]\n",
        "y_hat = np.zeros(n)\n",
        "alpha = 0.001\n",
        "iter = 10000\n",
        "precision = 0.0001\n",
        "\n",
        "#step2\n",
        "\n",
        "for i in range(iter):\n",
        "  prev_beta_0 = beta_0\n",
        "  prev_beta_1 = beta_1\n",
        "  y_hat = prev_beta_0 + prev_beta_1*x\n",
        "  grad_beta_0 = -2*np.sum(y - y_hat)\n",
        "  grad_beta_1 = -2*np.sum(x*(y - y_hat))\n",
        "  beta_0 = prev_beta_0 - alpha*(grad_beta_0)\n",
        "  beta_1 = prev_beta_1 - alpha*(grad_beta_1)\n",
        "  if (np.abs(beta_0 - prev_beta_0) < precision) and (np.abs(beta_1 - prev_beta_1) < precision):\n",
        "    print(\"stoped at iteration {}\".format(i))\n",
        "    break\n",
        "\n",
        "print('Estimated beta_0 {:.4f}'.format(beta_0[0]))\n",
        "print('Estimated beta_1 {:.4f}'.format(beta_1[0]))"
      ],
      "execution_count": 65,
      "outputs": [
        {
          "output_type": "stream",
          "text": [
            "stoped at iteration 159\n",
            "Estimated beta_0 5.0676\n",
            "Estimated beta_1 1.9868\n"
          ],
          "name": "stdout"
        }
      ]
    },
    {
      "metadata": {
        "id": "tPIClERvEpJq",
        "colab_type": "code",
        "colab": {
          "base_uri": "https://localhost:8080/",
          "height": 88
        },
        "outputId": "bfb2f40d-6bcf-4384-b545-8358be8b24a5"
      },
      "cell_type": "code",
      "source": [
        "#closed form\n",
        "\n",
        "cl_beta_1 = np.sum(y * (x - np.mean(x)))/ np.sum((x - np.mean(x))**2)\n",
        "cl_beta_0 = np.mean(y) - cl_beta_1*np.mean(x)\n",
        "\n",
        "print(\"Closed form beta_0: {:.4f}\".format(cl_beta_0))\n",
        "print(\"Closed form beta_1: {:.4f}\".format(cl_beta_1))\n",
        "\n",
        "print(\"Diference between Closed form and Gradient Descent beta_0: {:.2f}%\".format(100*np.abs(cl_beta_0 - beta_0)[0]/cl_beta_0))\n",
        "print(\"Diference between Closed form and Gradient Descent beta_1: {:.2f}%\".format(100*np.abs(cl_beta_1 - beta_1)[0]/cl_beta_1))\n"
      ],
      "execution_count": 70,
      "outputs": [
        {
          "output_type": "stream",
          "text": [
            "Closed form beta_0: 5.0696\n",
            "Closed form beta_1: 1.9862\n",
            "Diference between Closed form and Gradient Descent beta_0: 0.04%\n",
            "Diference between Closed form and Gradient Descent beta_1: 0.03%\n"
          ],
          "name": "stdout"
        }
      ]
    },
    {
      "metadata": {
        "id": "4Pk9fP5QTX3i",
        "colab_type": "code",
        "colab": {
          "base_uri": "https://localhost:8080/",
          "height": 394
        },
        "outputId": "111f6b47-b340-40a4-c211-ec7029245ca0"
      },
      "cell_type": "code",
      "source": [
        "# Plot data\n",
        "sns.set_style(\"whitegrid\")\n",
        "plt.plot(x, y_hat, color=\"orange\")\n",
        "plt.scatter(x,y)\n",
        "plt.xlabel('x')\n",
        "plt.ylabel('y')\n",
        "plt.title(\"f(x) = {:.2f} + {:.2f}x\".format(beta_0[0], beta_1[0]))"
      ],
      "execution_count": 85,
      "outputs": [
        {
          "output_type": "execute_result",
          "data": {
            "text/plain": [
              "Text(0.5, 1.0, 'f(x) = 5.07 + 1.99x')"
            ]
          },
          "metadata": {
            "tags": []
          },
          "execution_count": 85
        },
        {
          "output_type": "display_data",
          "data": {
            "image/png": "[encoded data removed]",
            "text/plain": [
              "<Figure size 576x396 with 1 Axes>"
            ]
          },
          "metadata": {
            "tags": []
          }
        }
      ]
    },
    {
      "metadata": {
        "id": "mlUQJ43cWrPZ",
        "colab_type": "text"
      },
      "cell_type": "markdown",
      "source": [
        "## Coefficient of Determination\n",
        "\n",
        "This metric is used to determine how much of our target variable is explained by our model. This metric has an instrinsic problem that as the number of features used in the model expand, the coefficient increase as well, but not always associated with the real explanation of the target variance.\n",
        "\n",
        "$$ R^2 = 1 - \\frac{\\sum{(y - \\hat{y})^2}}{\\sum{(y - \\bar{y})^2}}$$\n",
        "\n",
        "A curious fact about this metric, if the model prediction is lower than the mean of target, even though this coefficient is treated as the % of variance explanantion, it can get lower than 0."
      ]
    },
    {
      "metadata": {
        "id": "y7IimVXQWqHB",
        "colab_type": "code",
        "colab": {
          "base_uri": "https://localhost:8080/",
          "height": 35
        },
        "outputId": "d79ec86a-ffc4-4998-e0f7-0100b062a49a"
      },
      "cell_type": "code",
      "source": [
        "# Calculating the coefficient of determination\n",
        "def rsquare(y,y_hat):\n",
        "  return 1 - (np.sum((y - y_hat)**2)/np.sum((y - np.mean(y))**2))\n",
        "\n",
        "r2 = rsquare(y,y_hat)\n",
        "'The coefficient of determination (R2) for the example is {:.2f}.'.format(r2)"
      ],
      "execution_count": 86,
      "outputs": [
        {
          "output_type": "execute_result",
          "data": {
            "text/plain": [
              "'The coefficient of determination (R2) for the example is 0.89.'"
            ]
          },
          "metadata": {
            "tags": []
          },
          "execution_count": 86
        }
      ]
    },
    {
      "metadata": {
        "id": "4d38ZI1zRHsG",
        "colab_type": "text"
      },
      "cell_type": "markdown",
      "source": [
        "## Multivariate \n",
        "\n",
        "Now we expand our model to include more dimensions. This will change our earlier formulas to a matrix form, but as the concept will not change, that will not be described here at this moment. I am going to change our variables to a mutivariate problem with two features as following\n",
        "\n",
        "$$ Y = \\beta_0 + \\beta_1x_1 + \\beta_2x_2+ \\epsilon$$\n",
        "$$ f(x_1,x_2) = \\beta_0 + \\beta_1x_1 + \\beta_2x_2$$\n",
        "\n",
        "Our error metric, and loss function, remains the same\n",
        "\n",
        "$$ RSS = \\sum{(y - \\hat{y})²}$$"
      ]
    },
    {
      "metadata": {
        "id": "QiwAG7Z1V7w9",
        "colab_type": "code",
        "colab": {}
      },
      "cell_type": "code",
      "source": [
        "# Parameters\n",
        "real_beta_0 = 5\n",
        "real_beta_1 = 2\n",
        "real_beta_2 = 3\n",
        "real_sigma2 = 1\n",
        "\n",
        "# Sample size\n",
        "n = 100\n",
        "\n",
        "# Generate data\n",
        "x_1 = np.linspace(0,5,n)\n",
        "x_2 = np.linspace(0,5,n)\n",
        "y = real_beta_0 + real_beta_1*x_1 + real_beta_2*x_2 + real_sigma2 * np.random.randn(n)\n",
        "y=y.reshape(n,1)"
      ],
      "execution_count": 0,
      "outputs": []
    },
    {
      "metadata": {
        "id": "sCW567vaY4uG",
        "colab_type": "code",
        "colab": {
          "base_uri": "https://localhost:8080/",
          "height": 88
        },
        "outputId": "f794334d-5393-4fc0-c14a-ac7ea576117a"
      },
      "cell_type": "code",
      "source": [
        "# step 1\n",
        "\n",
        "beta = np.random.rand(3).reshape(3,1)\n",
        "n = x_1.shape[0]\n",
        "x_0 = np.ones(n)\n",
        "X = np.hstack((x_0.reshape(n,1),x_1.reshape(n,1),x_2.reshape(n,1)))\n",
        "\n",
        "y_hat = np.zeros(n)\n",
        "alpha = 0.0001\n",
        "iter = 100000\n",
        "precision = 0.000001\n",
        "\n",
        "#step2\n",
        "\n",
        "\n",
        "for i in range(iter):\n",
        "  prev_beta = beta\n",
        "  y_hat = np.dot(X,prev_beta)\n",
        "  grad_beta = -2*X.T@(y - y_hat)\n",
        "  beta = prev_beta - alpha*(grad_beta)\n",
        "  if (np.all(np.abs(beta - prev_beta) < precision)):\n",
        "    print(\"stoped at iteration {}\".format(i))\n",
        "    break\n",
        "    \n",
        "for i in range(beta.shape[0]):\n",
        "  print('Estimated beta {} : {:.4f}'.format(i,beta[i,0]))"
      ],
      "execution_count": 253,
      "outputs": [
        {
          "output_type": "stream",
          "text": [
            "stoped at iteration 2004\n",
            "Estimated beta 0 : 4.7315\n",
            "Estimated beta 1 : 2.0971\n",
            "Estimated beta 2 : 2.9816\n"
          ],
          "name": "stdout"
        }
      ]
    },
    {
      "metadata": {
        "id": "NqtYVVmavYng",
        "colab_type": "code",
        "colab": {
          "base_uri": "https://localhost:8080/",
          "height": 35
        },
        "outputId": "4879bbf8-4f5a-481a-fca7-a0febe071c34"
      },
      "cell_type": "code",
      "source": [
        "# Calculating the coefficient of determination\n",
        "r2 = rsquare(y,y_hat)\n",
        "'The coefficient of determination (R2) for the example is {:.2f}.'.format(r2)"
      ],
      "execution_count": 254,
      "outputs": [
        {
          "output_type": "execute_result",
          "data": {
            "text/plain": [
              "'The coefficient of determination (R2) for the example is 0.98.'"
            ]
          },
          "metadata": {
            "tags": []
          },
          "execution_count": 254
        }
      ]
    }
  ]
}